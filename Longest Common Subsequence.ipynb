{
 "cells": [
  {
   "cell_type": "code",
   "execution_count": 1,
   "metadata": {},
   "outputs": [],
   "source": [
    "def lcs(X , Y): \n",
    "    # find the length of the strings \n",
    "    m = len(X) \n",
    "    n = len(Y) \n",
    "  \n",
    "    # declaring the array for storing the dp values \n",
    "    L = [[0]*(n+1) for i in range(m+1)] \n",
    "  \n",
    "    for i in range(1,m+1): \n",
    "        for j in range(1,n+1): \n",
    "            if X[i-1] == Y[j-1]: \n",
    "                L[i][j] = L[i-1][j-1]+1\n",
    "            else: \n",
    "                L[i][j] = max(L[i-1][j] , L[i][j-1])\n",
    "  \n",
    "    # L[m][n] contains the length of LCS of X[0..n-1] & Y[0..m-1] \n",
    "    return L[m][n] \n",
    "#end of function lcs "
   ]
  },
  {
   "cell_type": "code",
   "execution_count": 2,
   "metadata": {},
   "outputs": [
    {
     "name": "stdout",
     "output_type": "stream",
     "text": [
      "Length of LCS is  4\n"
     ]
    }
   ],
   "source": [
    "# Driver program to test the above function \n",
    "X = \"AGGTAB\"\n",
    "Y = \"GXTXAYB\"\n",
    "print(\"Length of LCS is \", lcs(X, Y) ) "
   ]
  },
  {
   "cell_type": "code",
   "execution_count": null,
   "metadata": {},
   "outputs": [],
   "source": []
  }
 ],
 "metadata": {
  "kernelspec": {
   "display_name": "Python 3",
   "language": "python",
   "name": "python3"
  },
  "language_info": {
   "codemirror_mode": {
    "name": "ipython",
    "version": 3
   },
   "file_extension": ".py",
   "mimetype": "text/x-python",
   "name": "python",
   "nbconvert_exporter": "python",
   "pygments_lexer": "ipython3",
   "version": "3.7.3"
  }
 },
 "nbformat": 4,
 "nbformat_minor": 2
}
